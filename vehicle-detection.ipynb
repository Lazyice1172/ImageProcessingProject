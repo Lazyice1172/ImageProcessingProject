{
 "cells": [
  {
   "cell_type": "code",
   "execution_count": 6,
   "metadata": {
    "ExecuteTime": {
     "end_time": "2023-11-08T19:48:26.040029800Z",
     "start_time": "2023-11-08T19:48:04.551162700Z"
    }
   },
   "outputs": [],
   "source": [
    "import cv2\n",
    "import numpy as np\n",
    "\n",
    "video = cv2.VideoCapture(\"videos/fast.mp4\")\n",
    "\n",
    "kernel = None\n",
    "\n",
    "backgroundObject = cv2.createBackgroundSubtractorMOG2(detectShadows = True)\n",
    "\n",
    "while True:\n",
    "\n",
    "    ret, frame = video.read()\n",
    "\n",
    "    if not ret:\n",
    "        break\n",
    "\n",
    "    foreground_mask = backgroundObject.apply(frame)\n",
    "\n",
    "    _, foreground_mask = cv2.threshold(foreground_mask, 250, 255, cv2.THRESH_BINARY)\n",
    "\n",
    "    foreground_mask = cv2.erode(foreground_mask, kernel, iterations = 1)\n",
    "    foreground_mask = cv2.dilate(foreground_mask, kernel, iterations = 2)\n",
    "\n",
    "    contours, _ = cv2.findContours(foreground_mask, cv2.RETR_EXTERNAL, cv2.CHAIN_APPROX_SIMPLE)\n",
    "\n",
    "    frameCopy = frame.copy()\n",
    "\n",
    "    # loop over each contour found in the frame.\n",
    "    for cnt in contours:\n",
    "\n",
    "        # We need to be sure about the area of the contours i.e. it should be higher than 400 to reduce the noise.\n",
    "        if cv2.contourArea(cnt) > 500:\n",
    "\n",
    "            # Accessing the x, y and height, width of the cars\n",
    "            x, y, width, height = cv2.boundingRect(cnt)    \n",
    "\n",
    "            # Here we will be drawing the bounding box on the cars\n",
    "            cv2.rectangle(frameCopy, (x , y), (x + width, y + height),(0, 0, 255), 2)\n",
    "\n",
    "            # Then with the help of putText method we will write the 'Car detected' on every car with a bounding box\n",
    "            cv2.putText(frameCopy, 'Car Detected', (x, y-10), cv2.FONT_HERSHEY_SIMPLEX, 0.3, (0,255,0), 1, cv2.LINE_AA)\n",
    "\n",
    "    foregroundPart = cv2.bitwise_and(frame, frame, mask=foreground_mask)\n",
    "\n",
    "    stacked_frame = np.hstack((frameCopy, foregroundPart, frameCopy))\n",
    "\n",
    "    #cv2.imshow('Original Frame, Extracted Foreground and Detected Cars', cv2.resize(stacked_frame, None, fx=0.5, fy=0.5))\n",
    "    cv2.imshow(\"Result\", cv2.resize(frameCopy, None, fx=0.4, fy=0.4))\n",
    "\n",
    "    k = cv2.waitKey(1) & 0xff\n",
    "\n",
    "    if k == ord('q'):\n",
    "        break\n",
    "\n",
    "video.release()\n",
    "cv2.destroyAllWindows()"
   ]
  },
  {
   "cell_type": "code",
   "execution_count": null,
   "metadata": {
    "collapsed": false
   },
   "outputs": [],
   "source": []
  }
 ],
 "metadata": {
  "kernelspec": {
   "display_name": "Python 3",
   "language": "python",
   "name": "python3"
  },
  "language_info": {
   "codemirror_mode": {
    "name": "ipython",
    "version": 3
   },
   "file_extension": ".py",
   "mimetype": "text/x-python",
   "name": "python",
   "nbconvert_exporter": "python",
   "pygments_lexer": "ipython3",
   "version": "3.11.4"
  }
 },
 "nbformat": 4,
 "nbformat_minor": 2
}
